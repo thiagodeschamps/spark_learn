{
 "cells": [
  {
   "cell_type": "code",
   "execution_count": 1,
   "id": "95f94c1e-6d79-4f09-a344-ff55c52287bc",
   "metadata": {},
   "outputs": [],
   "source": [
    "from pyspark.sql import SparkSession"
   ]
  },
  {
   "cell_type": "code",
   "execution_count": 4,
   "id": "bcfe1176-a927-4152-9bb9-588f40d3ac51",
   "metadata": {},
   "outputs": [],
   "source": [
    "spark = SparkSession.builder.appName('Dataframe').getOrCreate()"
   ]
  },
  {
   "cell_type": "code",
   "execution_count": 5,
   "id": "dec8adb5-783e-4670-92bc-578f8cabe617",
   "metadata": {},
   "outputs": [
    {
     "data": {
      "text/html": [
       "\n",
       "            <div>\n",
       "                <p><b>SparkSession - in-memory</b></p>\n",
       "                \n",
       "        <div>\n",
       "            <p><b>SparkContext</b></p>\n",
       "\n",
       "            <p><a href=\"http://172.31.215.134:4041\">Spark UI</a></p>\n",
       "\n",
       "            <dl>\n",
       "              <dt>Version</dt>\n",
       "                <dd><code>v3.2.1</code></dd>\n",
       "              <dt>Master</dt>\n",
       "                <dd><code>local[*]</code></dd>\n",
       "              <dt>AppName</dt>\n",
       "                <dd><code>Dataframe</code></dd>\n",
       "            </dl>\n",
       "        </div>\n",
       "        \n",
       "            </div>\n",
       "        "
      ],
      "text/plain": [
       "<pyspark.sql.session.SparkSession at 0x7f7518bb0640>"
      ]
     },
     "execution_count": 5,
     "metadata": {},
     "output_type": "execute_result"
    }
   ],
   "source": [
    "spark"
   ]
  },
  {
   "cell_type": "code",
   "execution_count": 12,
   "id": "333f1b07-090c-42f8-b43c-9657a1e0978c",
   "metadata": {},
   "outputs": [],
   "source": [
    "## read the dataset\n",
    "\n",
    "df_pyspark = spark.read.option('header','true').csv('../data/demo_data_2.csv', inferSchema=True)"
   ]
  },
  {
   "cell_type": "code",
   "execution_count": 13,
   "id": "16bd9534-aedc-4127-b90c-44f7adbe5eda",
   "metadata": {},
   "outputs": [
    {
     "name": "stdout",
     "output_type": "stream",
     "text": [
      "root\n",
      " |-- Name: string (nullable = true)\n",
      " |-- Age: integer (nullable = true)\n",
      " |-- experience: integer (nullable = true)\n",
      "\n"
     ]
    }
   ],
   "source": [
    "### Check the schema\n",
    "\n",
    "df_pyspark.printSchema()"
   ]
  },
  {
   "cell_type": "code",
   "execution_count": 14,
   "id": "a9baced7-8702-486d-9859-645925133d9b",
   "metadata": {},
   "outputs": [
    {
     "name": "stdout",
     "output_type": "stream",
     "text": [
      "+--------+---+----------+\n",
      "|    Name|Age|experience|\n",
      "+--------+---+----------+\n",
      "|Takision|  8|         4|\n",
      "|  Sasaki|  9|         7|\n",
      "|  Takuan| 42|        30|\n",
      "+--------+---+----------+\n",
      "\n"
     ]
    }
   ],
   "source": [
    "df_pyspark = spark.read.csv('../data/demo_data_2.csv', header=True, inferSchema=True)\n",
    "df_pyspark.show()"
   ]
  },
  {
   "cell_type": "code",
   "execution_count": 15,
   "id": "4ec4da79-df64-4acb-a28a-f975e23658bf",
   "metadata": {},
   "outputs": [
    {
     "data": {
      "text/plain": [
       "pyspark.sql.dataframe.DataFrame"
      ]
     },
     "execution_count": 15,
     "metadata": {},
     "output_type": "execute_result"
    }
   ],
   "source": [
    "type(df_pyspark)"
   ]
  },
  {
   "cell_type": "code",
   "execution_count": 16,
   "id": "1608540d-5034-46b3-8222-a3770899b856",
   "metadata": {},
   "outputs": [
    {
     "data": {
      "text/plain": [
       "[Row(Name='Takision', Age=8, experience=4),\n",
       " Row(Name='Sasaki', Age=9, experience=7),\n",
       " Row(Name='Takuan', Age=42, experience=30)]"
      ]
     },
     "execution_count": 16,
     "metadata": {},
     "output_type": "execute_result"
    }
   ],
   "source": [
    "df_pyspark.head(3)"
   ]
  },
  {
   "cell_type": "code",
   "execution_count": 17,
   "id": "5fa7b51d-ea9e-4f4b-9439-3e3f40e238e1",
   "metadata": {},
   "outputs": [
    {
     "name": "stdout",
     "output_type": "stream",
     "text": [
      "+--------+---+----------+\n",
      "|    Name|Age|experience|\n",
      "+--------+---+----------+\n",
      "|Takision|  8|         4|\n",
      "|  Sasaki|  9|         7|\n",
      "|  Takuan| 42|        30|\n",
      "+--------+---+----------+\n",
      "\n"
     ]
    }
   ],
   "source": [
    "df_pyspark.show()"
   ]
  },
  {
   "cell_type": "code",
   "execution_count": 18,
   "id": "61097074-25ff-4bd5-8923-d98a33893e78",
   "metadata": {},
   "outputs": [
    {
     "data": {
      "text/plain": [
       "DataFrame[Name: string]"
      ]
     },
     "execution_count": 18,
     "metadata": {},
     "output_type": "execute_result"
    }
   ],
   "source": [
    "df_pyspark.select('Name')"
   ]
  },
  {
   "cell_type": "code",
   "execution_count": 19,
   "id": "a95a154c-ef24-447b-bfb5-7371e32b12f2",
   "metadata": {},
   "outputs": [
    {
     "name": "stdout",
     "output_type": "stream",
     "text": [
      "+--------+\n",
      "|    Name|\n",
      "+--------+\n",
      "|Takision|\n",
      "|  Sasaki|\n",
      "|  Takuan|\n",
      "+--------+\n",
      "\n"
     ]
    }
   ],
   "source": [
    "df_pyspark.select('Name').show()"
   ]
  },
  {
   "cell_type": "code",
   "execution_count": 20,
   "id": "fad8ea7d-2373-42a5-a7cc-03bf8dda9645",
   "metadata": {},
   "outputs": [
    {
     "name": "stdout",
     "output_type": "stream",
     "text": [
      "+--------+----------+\n",
      "|    Name|experience|\n",
      "+--------+----------+\n",
      "|Takision|         4|\n",
      "|  Sasaki|         7|\n",
      "|  Takuan|        30|\n",
      "+--------+----------+\n",
      "\n"
     ]
    }
   ],
   "source": [
    "df_pyspark.select(['Name', 'experience']).show()"
   ]
  },
  {
   "cell_type": "code",
   "execution_count": 21,
   "id": "a69d39c8-55eb-4f84-94cd-0254d70df34e",
   "metadata": {},
   "outputs": [
    {
     "data": {
      "text/plain": [
       "Column<'Name'>"
      ]
     },
     "execution_count": 21,
     "metadata": {},
     "output_type": "execute_result"
    }
   ],
   "source": [
    "df_pyspark['Name']"
   ]
  },
  {
   "cell_type": "code",
   "execution_count": 22,
   "id": "9145725d-0766-478c-8639-72d7a0807c53",
   "metadata": {},
   "outputs": [
    {
     "data": {
      "text/plain": [
       "[('Name', 'string'), ('Age', 'int'), ('experience', 'int')]"
      ]
     },
     "execution_count": 22,
     "metadata": {},
     "output_type": "execute_result"
    }
   ],
   "source": [
    "df_pyspark.dtypes"
   ]
  },
  {
   "cell_type": "code",
   "execution_count": 23,
   "id": "702f7d0f-9cf7-4196-b9da-6835962ed2a4",
   "metadata": {},
   "outputs": [
    {
     "name": "stderr",
     "output_type": "stream",
     "text": [
      "                                                                                \r"
     ]
    },
    {
     "name": "stdout",
     "output_type": "stream",
     "text": [
      "+-------+------+------------------+------------------+\n",
      "|summary|  Name|               Age|        experience|\n",
      "+-------+------+------------------+------------------+\n",
      "|  count|     3|                 3|                 3|\n",
      "|   mean|  null|19.666666666666668|13.666666666666666|\n",
      "| stddev|  null|19.347695814575268|14.224392195567914|\n",
      "|    min|Sasaki|                 8|                 4|\n",
      "|    max|Takuan|                42|                30|\n",
      "+-------+------+------------------+------------------+\n",
      "\n"
     ]
    }
   ],
   "source": [
    "df_pyspark.describe().show()"
   ]
  },
  {
   "cell_type": "code",
   "execution_count": 27,
   "id": "4a9f46e9-a9d4-4797-908b-91b09d19d382",
   "metadata": {},
   "outputs": [],
   "source": [
    "### adding columns in data frame\n",
    "df_pyspark = df_pyspark.withColumn('Experience After 2 years', df_pyspark['experience'] + 2)"
   ]
  },
  {
   "cell_type": "code",
   "execution_count": 28,
   "id": "fb9f9161-4514-4d43-8783-6d298bb8b52d",
   "metadata": {},
   "outputs": [
    {
     "name": "stdout",
     "output_type": "stream",
     "text": [
      "+--------+---+----------+------------------------+\n",
      "|    Name|Age|experience|Experience After 2 years|\n",
      "+--------+---+----------+------------------------+\n",
      "|Takision|  8|         4|                       6|\n",
      "|  Sasaki|  9|         7|                       9|\n",
      "|  Takuan| 42|        30|                      32|\n",
      "+--------+---+----------+------------------------+\n",
      "\n"
     ]
    }
   ],
   "source": [
    "df_pyspark.show()"
   ]
  },
  {
   "cell_type": "code",
   "execution_count": 30,
   "id": "8f73e291-38a4-4992-b1cf-c7ec438b4adc",
   "metadata": {},
   "outputs": [],
   "source": [
    "### Drop the columns\n",
    "df_pyspark = df_pyspark.drop('Experience After 2 years')"
   ]
  },
  {
   "cell_type": "code",
   "execution_count": 31,
   "id": "d2dbcc62-bf0f-465c-bd84-7ee375cecbdd",
   "metadata": {},
   "outputs": [
    {
     "name": "stdout",
     "output_type": "stream",
     "text": [
      "+--------+---+----------+\n",
      "|    Name|Age|experience|\n",
      "+--------+---+----------+\n",
      "|Takision|  8|         4|\n",
      "|  Sasaki|  9|         7|\n",
      "|  Takuan| 42|        30|\n",
      "+--------+---+----------+\n",
      "\n"
     ]
    }
   ],
   "source": [
    "df_pyspark.show()"
   ]
  },
  {
   "cell_type": "code",
   "execution_count": 32,
   "id": "31cd2a2e-aae2-4266-bbe8-45fe7a90c349",
   "metadata": {},
   "outputs": [
    {
     "name": "stdout",
     "output_type": "stream",
     "text": [
      "+--------+---+----------+\n",
      "|    Nome|Age|experience|\n",
      "+--------+---+----------+\n",
      "|Takision|  8|         4|\n",
      "|  Sasaki|  9|         7|\n",
      "|  Takuan| 42|        30|\n",
      "+--------+---+----------+\n",
      "\n"
     ]
    }
   ],
   "source": [
    "### rename the columns\n",
    "\n",
    "df_pyspark = df_pyspark.withColumnRenamed('Name', 'Nome').show()"
   ]
  },
  {
   "cell_type": "code",
   "execution_count": null,
   "id": "c8263a02-8e76-4813-b44b-8467920262c4",
   "metadata": {},
   "outputs": [],
   "source": []
  },
  {
   "cell_type": "code",
   "execution_count": null,
   "id": "0938f3a9-bc51-492e-8655-2df1f33ed1ac",
   "metadata": {},
   "outputs": [],
   "source": []
  },
  {
   "cell_type": "code",
   "execution_count": null,
   "id": "1cb0c733-3823-4c4a-b724-f6d97ffc712d",
   "metadata": {},
   "outputs": [],
   "source": []
  }
 ],
 "metadata": {
  "kernelspec": {
   "display_name": "Python 3 (ipykernel)",
   "language": "python",
   "name": "python3"
  },
  "language_info": {
   "codemirror_mode": {
    "name": "ipython",
    "version": 3
   },
   "file_extension": ".py",
   "mimetype": "text/x-python",
   "name": "python",
   "nbconvert_exporter": "python",
   "pygments_lexer": "ipython3",
   "version": "3.9.11"
  }
 },
 "nbformat": 4,
 "nbformat_minor": 5
}
