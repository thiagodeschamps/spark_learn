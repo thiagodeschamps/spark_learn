{
 "cells": [
  {
   "cell_type": "code",
   "execution_count": 1,
   "id": "6bc1b37a-e9d8-41d9-8154-330cc39119e6",
   "metadata": {},
   "outputs": [
    {
     "name": "stderr",
     "output_type": "stream",
     "text": [
      "22/04/04 12:58:36 WARN Utils: Your hostname, DESKTOP-HGFEG13 resolves to a loopback address: 127.0.1.1; using 172.31.215.134 instead (on interface eth0)\n",
      "22/04/04 12:58:36 WARN Utils: Set SPARK_LOCAL_IP if you need to bind to another address\n",
      "Using Spark's default log4j profile: org/apache/spark/log4j-defaults.properties\n",
      "Setting default log level to \"WARN\".\n",
      "To adjust logging level use sc.setLogLevel(newLevel). For SparkR, use setLogLevel(newLevel).\n",
      "22/04/04 12:58:39 WARN NativeCodeLoader: Unable to load native-hadoop library for your platform... using builtin-java classes where applicable\n",
      "22/04/04 12:58:42 WARN Utils: Service 'SparkUI' could not bind on port 4040. Attempting port 4041.\n",
      "22/04/04 12:58:42 WARN Utils: Service 'SparkUI' could not bind on port 4041. Attempting port 4042.\n"
     ]
    }
   ],
   "source": [
    "from pyspark.sql import SparkSession\n",
    "spark = SparkSession.builder.appName('Practice').getOrCreate()"
   ]
  },
  {
   "cell_type": "code",
   "execution_count": 5,
   "id": "fc08d4d3-2d68-4c4b-a9df-d8d6310d556a",
   "metadata": {},
   "outputs": [],
   "source": [
    "df_spark = spark.read.csv('../data/demo_data_3.csv', header = True, inferSchema = True)"
   ]
  },
  {
   "cell_type": "code",
   "execution_count": 6,
   "id": "a63f68ee-39e5-47d2-b0f2-bc6ba5f7903f",
   "metadata": {},
   "outputs": [
    {
     "name": "stdout",
     "output_type": "stream",
     "text": [
      "+---------+----+----------+------+\n",
      "|     name| age|experience|salary|\n",
      "+---------+----+----------+------+\n",
      "|   Takezo|   8|         4|  1000|\n",
      "|   Sasaki|   9|         7|  2000|\n",
      "|   Takuan|  42|        30|  3000|\n",
      "|     Otsu|  64|        36|  4000|\n",
      "|     Itto|  32|        48|  5000|\n",
      "|Matahachi|null|      null|  6000|\n",
      "|  Seijuro|  88|        13|  7000|\n",
      "|     null|  37|        75|  8000|\n",
      "|     null|  36|      null|  null|\n",
      "+---------+----+----------+------+\n",
      "\n"
     ]
    }
   ],
   "source": [
    "df_spark.show()"
   ]
  },
  {
   "cell_type": "code",
   "execution_count": 7,
   "id": "30aaac31-059f-4948-9a31-2a3533783a87",
   "metadata": {},
   "outputs": [
    {
     "name": "stdout",
     "output_type": "stream",
     "text": [
      "+----+----------+------+\n",
      "| age|experience|salary|\n",
      "+----+----------+------+\n",
      "|   8|         4|  1000|\n",
      "|   9|         7|  2000|\n",
      "|  42|        30|  3000|\n",
      "|  64|        36|  4000|\n",
      "|  32|        48|  5000|\n",
      "|null|      null|  6000|\n",
      "|  88|        13|  7000|\n",
      "|  37|        75|  8000|\n",
      "|  36|      null|  null|\n",
      "+----+----------+------+\n",
      "\n"
     ]
    }
   ],
   "source": [
    "## drop the columns\n",
    "\n",
    "df_spark.drop('name').show()"
   ]
  },
  {
   "cell_type": "code",
   "execution_count": 8,
   "id": "dcf89c84-6ac2-4f4f-b319-f802dd22cf3c",
   "metadata": {},
   "outputs": [
    {
     "name": "stdout",
     "output_type": "stream",
     "text": [
      "+---------+----+----------+------+\n",
      "|     name| age|experience|salary|\n",
      "+---------+----+----------+------+\n",
      "|   Takezo|   8|         4|  1000|\n",
      "|   Sasaki|   9|         7|  2000|\n",
      "|   Takuan|  42|        30|  3000|\n",
      "|     Otsu|  64|        36|  4000|\n",
      "|     Itto|  32|        48|  5000|\n",
      "|Matahachi|null|      null|  6000|\n",
      "|  Seijuro|  88|        13|  7000|\n",
      "|     null|  37|        75|  8000|\n",
      "|     null|  36|      null|  null|\n",
      "+---------+----+----------+------+\n",
      "\n"
     ]
    }
   ],
   "source": [
    "df_spark.show()"
   ]
  },
  {
   "cell_type": "code",
   "execution_count": 9,
   "id": "053ad71e-ab50-4208-bbb5-a52d5e4a6bc4",
   "metadata": {},
   "outputs": [
    {
     "name": "stdout",
     "output_type": "stream",
     "text": [
      "+-------+---+----------+------+\n",
      "|   name|age|experience|salary|\n",
      "+-------+---+----------+------+\n",
      "| Takezo|  8|         4|  1000|\n",
      "| Sasaki|  9|         7|  2000|\n",
      "| Takuan| 42|        30|  3000|\n",
      "|   Otsu| 64|        36|  4000|\n",
      "|   Itto| 32|        48|  5000|\n",
      "|Seijuro| 88|        13|  7000|\n",
      "+-------+---+----------+------+\n",
      "\n"
     ]
    }
   ],
   "source": [
    "df_spark.na.drop().show()"
   ]
  },
  {
   "cell_type": "code",
   "execution_count": 12,
   "id": "76fb2e84-29c1-47a6-af1f-2203c34e78cc",
   "metadata": {},
   "outputs": [
    {
     "name": "stdout",
     "output_type": "stream",
     "text": [
      "+---------+----+----------+------+\n",
      "|     name| age|experience|salary|\n",
      "+---------+----+----------+------+\n",
      "|   Takezo|   8|         4|  1000|\n",
      "|   Sasaki|   9|         7|  2000|\n",
      "|   Takuan|  42|        30|  3000|\n",
      "|     Otsu|  64|        36|  4000|\n",
      "|     Itto|  32|        48|  5000|\n",
      "|Matahachi|null|      null|  6000|\n",
      "|  Seijuro|  88|        13|  7000|\n",
      "|     null|  37|        75|  8000|\n",
      "|     null|  36|      null|  null|\n",
      "+---------+----+----------+------+\n",
      "\n",
      "+-------+---+----------+------+\n",
      "|   name|age|experience|salary|\n",
      "+-------+---+----------+------+\n",
      "| Takezo|  8|         4|  1000|\n",
      "| Sasaki|  9|         7|  2000|\n",
      "| Takuan| 42|        30|  3000|\n",
      "|   Otsu| 64|        36|  4000|\n",
      "|   Itto| 32|        48|  5000|\n",
      "|Seijuro| 88|        13|  7000|\n",
      "+-------+---+----------+------+\n",
      "\n"
     ]
    }
   ],
   "source": [
    "### any == how\n",
    "df_spark.na.drop(how = 'all').show()\n",
    "df_spark.na.drop(how = 'any').show()"
   ]
  },
  {
   "cell_type": "code",
   "execution_count": 13,
   "id": "120955da-b083-4ab2-a6c2-69b1a6e6af14",
   "metadata": {},
   "outputs": [
    {
     "name": "stdout",
     "output_type": "stream",
     "text": [
      "+---------+----+----------+------+\n",
      "|     name| age|experience|salary|\n",
      "+---------+----+----------+------+\n",
      "|   Takezo|   8|         4|  1000|\n",
      "|   Sasaki|   9|         7|  2000|\n",
      "|   Takuan|  42|        30|  3000|\n",
      "|     Otsu|  64|        36|  4000|\n",
      "|     Itto|  32|        48|  5000|\n",
      "|Matahachi|null|      null|  6000|\n",
      "|  Seijuro|  88|        13|  7000|\n",
      "|     null|  37|        75|  8000|\n",
      "+---------+----+----------+------+\n",
      "\n"
     ]
    }
   ],
   "source": [
    "### threshold\n",
    "\n",
    "df_spark.na.drop(how = 'any', thresh = 2).show()"
   ]
  },
  {
   "cell_type": "code",
   "execution_count": 15,
   "id": "7dc71e45-e12b-4c96-a0c5-33b59ed7b527",
   "metadata": {},
   "outputs": [
    {
     "name": "stdout",
     "output_type": "stream",
     "text": [
      "+-------+---+----------+------+\n",
      "|   name|age|experience|salary|\n",
      "+-------+---+----------+------+\n",
      "| Takezo|  8|         4|  1000|\n",
      "| Sasaki|  9|         7|  2000|\n",
      "| Takuan| 42|        30|  3000|\n",
      "|   Otsu| 64|        36|  4000|\n",
      "|   Itto| 32|        48|  5000|\n",
      "|Seijuro| 88|        13|  7000|\n",
      "|   null| 37|        75|  8000|\n",
      "|   null| 36|      null|  null|\n",
      "+-------+---+----------+------+\n",
      "\n"
     ]
    }
   ],
   "source": [
    "### subset\n",
    "\n",
    "df_spark.na.drop(how = 'any', subset = ['age']).show()"
   ]
  },
  {
   "cell_type": "code",
   "execution_count": 17,
   "id": "4fbe66e6-1b9d-492f-ba9f-db113b354895",
   "metadata": {},
   "outputs": [
    {
     "name": "stdout",
     "output_type": "stream",
     "text": [
      "+-------------+----+----------+------+\n",
      "|         name| age|experience|salary|\n",
      "+-------------+----+----------+------+\n",
      "|       Takezo|   8|         4|  1000|\n",
      "|       Sasaki|   9|         7|  2000|\n",
      "|       Takuan|  42|        30|  3000|\n",
      "|         Otsu|  64|        36|  4000|\n",
      "|         Itto|  32|        48|  5000|\n",
      "|    Matahachi|null|      null|  6000|\n",
      "|      Seijuro|  88|        13|  7000|\n",
      "|Missing Value|  37|        75|  8000|\n",
      "|Missing Value|  36|      null|  null|\n",
      "+-------------+----+----------+------+\n",
      "\n"
     ]
    }
   ],
   "source": [
    "### filling the missing values\n",
    "\n",
    "df_spark.na.fill('Missing Value', ['name', 'experience']).show()"
   ]
  },
  {
   "cell_type": "code",
   "execution_count": 18,
   "id": "8da2517a-8777-44c0-8886-516cec39def6",
   "metadata": {},
   "outputs": [
    {
     "name": "stdout",
     "output_type": "stream",
     "text": [
      "+---------+----+----------+------+\n",
      "|     name| age|experience|salary|\n",
      "+---------+----+----------+------+\n",
      "|   Takezo|   8|         4|  1000|\n",
      "|   Sasaki|   9|         7|  2000|\n",
      "|   Takuan|  42|        30|  3000|\n",
      "|     Otsu|  64|        36|  4000|\n",
      "|     Itto|  32|        48|  5000|\n",
      "|Matahachi|null|      null|  6000|\n",
      "|  Seijuro|  88|        13|  7000|\n",
      "|     null|  37|        75|  8000|\n",
      "|     null|  36|      null|  null|\n",
      "+---------+----+----------+------+\n",
      "\n"
     ]
    }
   ],
   "source": [
    "df_spark.show()"
   ]
  },
  {
   "cell_type": "code",
   "execution_count": 19,
   "id": "6b46a48e-815d-4736-ba89-fb12225d6bad",
   "metadata": {},
   "outputs": [],
   "source": [
    "from pyspark.ml.feature import Imputer\n",
    "\n",
    "imputer = Imputer(\n",
    "    inputCols = ['age','experience','salary'],\n",
    "    outputCols = ['{}_imputed'.format(c) for c in ['age', 'experience', 'salary']]\n",
    "    ).setStrategy('mean')"
   ]
  },
  {
   "cell_type": "code",
   "execution_count": 20,
   "id": "57f6a2cd-9e8c-412d-8d69-e84c129fc4de",
   "metadata": {},
   "outputs": [
    {
     "name": "stdout",
     "output_type": "stream",
     "text": [
      "+---------+----+----------+------+-----------+------------------+--------------+\n",
      "|     name| age|experience|salary|age_imputed|experience_imputed|salary_imputed|\n",
      "+---------+----+----------+------+-----------+------------------+--------------+\n",
      "|   Takezo|   8|         4|  1000|          8|                 4|          1000|\n",
      "|   Sasaki|   9|         7|  2000|          9|                 7|          2000|\n",
      "|   Takuan|  42|        30|  3000|         42|                30|          3000|\n",
      "|     Otsu|  64|        36|  4000|         64|                36|          4000|\n",
      "|     Itto|  32|        48|  5000|         32|                48|          5000|\n",
      "|Matahachi|null|      null|  6000|         39|                30|          6000|\n",
      "|  Seijuro|  88|        13|  7000|         88|                13|          7000|\n",
      "|     null|  37|        75|  8000|         37|                75|          8000|\n",
      "|     null|  36|      null|  null|         36|                30|          4500|\n",
      "+---------+----+----------+------+-----------+------------------+--------------+\n",
      "\n"
     ]
    }
   ],
   "source": [
    "# add imputation ols to df\n",
    "imputer.fit(df_spark).transform(df_spark).show()"
   ]
  },
  {
   "cell_type": "code",
   "execution_count": null,
   "id": "e7f68fac-e511-4ba7-97db-3b39f4f95ea6",
   "metadata": {},
   "outputs": [],
   "source": []
  },
  {
   "cell_type": "code",
   "execution_count": null,
   "id": "262505d3-fe12-4e90-8fd4-c72830641ea4",
   "metadata": {},
   "outputs": [],
   "source": []
  },
  {
   "cell_type": "code",
   "execution_count": null,
   "id": "4c066814-148f-4201-b9cc-f463df3e345e",
   "metadata": {},
   "outputs": [],
   "source": []
  },
  {
   "cell_type": "code",
   "execution_count": null,
   "id": "cb4d2ab2-d825-4aed-88d9-06f563798723",
   "metadata": {},
   "outputs": [],
   "source": []
  },
  {
   "cell_type": "code",
   "execution_count": null,
   "id": "2b5a9b60-48c3-4862-b483-75eda8604080",
   "metadata": {},
   "outputs": [],
   "source": []
  },
  {
   "cell_type": "code",
   "execution_count": null,
   "id": "342656b5-f2b3-49a2-9fe2-6ee76b47c71a",
   "metadata": {},
   "outputs": [],
   "source": []
  },
  {
   "cell_type": "code",
   "execution_count": null,
   "id": "d53793d5-de23-4359-a8d7-e27f94c025e1",
   "metadata": {},
   "outputs": [],
   "source": []
  },
  {
   "cell_type": "code",
   "execution_count": null,
   "id": "40958758-bd28-41da-8b67-728aa89a75cd",
   "metadata": {},
   "outputs": [],
   "source": []
  },
  {
   "cell_type": "code",
   "execution_count": null,
   "id": "8e5a4af8-e058-451d-8c84-027b3f4f0eb6",
   "metadata": {},
   "outputs": [],
   "source": []
  },
  {
   "cell_type": "code",
   "execution_count": null,
   "id": "197bf68a-ece5-494b-b7b3-5c3ef38ab666",
   "metadata": {},
   "outputs": [],
   "source": []
  },
  {
   "cell_type": "code",
   "execution_count": null,
   "id": "60d23794-f057-4ce0-aefd-4fc8516f69e1",
   "metadata": {},
   "outputs": [],
   "source": []
  },
  {
   "cell_type": "code",
   "execution_count": null,
   "id": "34d735bd-1ec4-490e-981f-b538f8c91cee",
   "metadata": {},
   "outputs": [],
   "source": []
  },
  {
   "cell_type": "code",
   "execution_count": null,
   "id": "3e82dde4-c37f-49ec-8ee0-75f267483acc",
   "metadata": {},
   "outputs": [],
   "source": []
  },
  {
   "cell_type": "code",
   "execution_count": null,
   "id": "6b07b0fc-7a30-4d95-8673-ff963ef46aa5",
   "metadata": {},
   "outputs": [],
   "source": []
  },
  {
   "cell_type": "code",
   "execution_count": null,
   "id": "e0d231fe-6961-48db-bf64-582461549d93",
   "metadata": {},
   "outputs": [],
   "source": []
  }
 ],
 "metadata": {
  "kernelspec": {
   "display_name": "Python 3 (ipykernel)",
   "language": "python",
   "name": "python3"
  },
  "language_info": {
   "codemirror_mode": {
    "name": "ipython",
    "version": 3
   },
   "file_extension": ".py",
   "mimetype": "text/x-python",
   "name": "python",
   "nbconvert_exporter": "python",
   "pygments_lexer": "ipython3",
   "version": "3.9.11"
  }
 },
 "nbformat": 4,
 "nbformat_minor": 5
}
