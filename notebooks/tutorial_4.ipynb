{
 "cells": [
  {
   "cell_type": "code",
   "execution_count": 1,
   "id": "f493b91c-0ad3-475d-a914-b3f650cd5ee8",
   "metadata": {},
   "outputs": [],
   "source": [
    "from pyspark.sql import SparkSession"
   ]
  },
  {
   "cell_type": "code",
   "execution_count": 2,
   "id": "032a152e-aa4a-4cf6-ab22-86cd1c03b18e",
   "metadata": {},
   "outputs": [
    {
     "name": "stderr",
     "output_type": "stream",
     "text": [
      "22/04/04 13:40:20 WARN Utils: Your hostname, DESKTOP-HGFEG13 resolves to a loopback address: 127.0.1.1; using 172.31.215.134 instead (on interface eth0)\n",
      "22/04/04 13:40:20 WARN Utils: Set SPARK_LOCAL_IP if you need to bind to another address\n",
      "Using Spark's default log4j profile: org/apache/spark/log4j-defaults.properties\n",
      "Setting default log level to \"WARN\".\n",
      "To adjust logging level use sc.setLogLevel(newLevel). For SparkR, use setLogLevel(newLevel).\n",
      "22/04/04 13:40:23 WARN NativeCodeLoader: Unable to load native-hadoop library for your platform... using builtin-java classes where applicable\n",
      "22/04/04 13:40:25 WARN Utils: Service 'SparkUI' could not bind on port 4040. Attempting port 4041.\n",
      "22/04/04 13:40:25 WARN Utils: Service 'SparkUI' could not bind on port 4041. Attempting port 4042.\n",
      "22/04/04 13:40:25 WARN Utils: Service 'SparkUI' could not bind on port 4042. Attempting port 4043.\n"
     ]
    }
   ],
   "source": [
    "spark = SparkSession.builder.appName('dataframe').getOrCreate()"
   ]
  },
  {
   "cell_type": "code",
   "execution_count": 3,
   "id": "a51cc0bb-f720-4f89-ac30-717392a57f0d",
   "metadata": {},
   "outputs": [
    {
     "name": "stderr",
     "output_type": "stream",
     "text": [
      "                                                                                \r"
     ]
    }
   ],
   "source": [
    "df_pyspark = spark.read.csv('../data/demo_data_3.csv', header = True, inferSchema = True)"
   ]
  },
  {
   "cell_type": "code",
   "execution_count": 4,
   "id": "7e9a4da5-82e0-470f-a44f-08c57d6858f4",
   "metadata": {},
   "outputs": [
    {
     "name": "stdout",
     "output_type": "stream",
     "text": [
      "+---------+----+----------+------+\n",
      "|     name| age|experience|salary|\n",
      "+---------+----+----------+------+\n",
      "|   Takezo|   8|         4|  1000|\n",
      "|   Sasaki|   9|         7|  2000|\n",
      "|   Takuan|  42|        30|  3000|\n",
      "|     Otsu|  64|        36|  4000|\n",
      "|     Itto|  32|        48|  5000|\n",
      "|Matahachi|null|      null|  6000|\n",
      "|  Seijuro|  88|        13|  7000|\n",
      "|     null|  37|        75|  8000|\n",
      "|     null|  36|      null|  null|\n",
      "+---------+----+----------+------+\n",
      "\n"
     ]
    }
   ],
   "source": [
    "df_pyspark.show()"
   ]
  },
  {
   "cell_type": "code",
   "execution_count": 5,
   "id": "431018e2-9227-4258-a8fd-81f518722ed1",
   "metadata": {},
   "outputs": [],
   "source": [
    "df_pyspark = df_pyspark.na.drop()"
   ]
  },
  {
   "cell_type": "code",
   "execution_count": 6,
   "id": "3b34c388-4a1a-4519-9541-3ba98f8bf07e",
   "metadata": {},
   "outputs": [
    {
     "name": "stdout",
     "output_type": "stream",
     "text": [
      "+-------+---+----------+------+\n",
      "|   name|age|experience|salary|\n",
      "+-------+---+----------+------+\n",
      "| Takezo|  8|         4|  1000|\n",
      "| Sasaki|  9|         7|  2000|\n",
      "| Takuan| 42|        30|  3000|\n",
      "|   Otsu| 64|        36|  4000|\n",
      "|   Itto| 32|        48|  5000|\n",
      "|Seijuro| 88|        13|  7000|\n",
      "+-------+---+----------+------+\n",
      "\n"
     ]
    }
   ],
   "source": [
    "df_pyspark.show()"
   ]
  },
  {
   "cell_type": "markdown",
   "id": "d7f36eb3-b466-4dc8-b90a-ab087db18253",
   "metadata": {},
   "source": [
    "## filter operations"
   ]
  },
  {
   "cell_type": "code",
   "execution_count": 8,
   "id": "f59c7b2a-5fc6-471e-9428-2daf5c1021d0",
   "metadata": {},
   "outputs": [
    {
     "name": "stdout",
     "output_type": "stream",
     "text": [
      "+------+---+----------+------+\n",
      "|  name|age|experience|salary|\n",
      "+------+---+----------+------+\n",
      "|Takezo|  8|         4|  1000|\n",
      "|Sasaki|  9|         7|  2000|\n",
      "+------+---+----------+------+\n",
      "\n"
     ]
    }
   ],
   "source": [
    "### Salary of the peopel less than or equal to 20000\n",
    "\n",
    "df_pyspark.filter('salary<=2000').show()"
   ]
  },
  {
   "cell_type": "code",
   "execution_count": 9,
   "id": "51c87a9c-3ffe-4785-a5e3-c3c1ed8dc1e4",
   "metadata": {},
   "outputs": [
    {
     "name": "stdout",
     "output_type": "stream",
     "text": [
      "+------+---+\n",
      "|  name|age|\n",
      "+------+---+\n",
      "|Takezo|  8|\n",
      "|Sasaki|  9|\n",
      "+------+---+\n",
      "\n"
     ]
    }
   ],
   "source": [
    "df_pyspark.filter('salary<=2000').select(['name', 'age']).show()"
   ]
  },
  {
   "cell_type": "code",
   "execution_count": 10,
   "id": "56482849-bf16-4e43-bfc4-951a602ba326",
   "metadata": {},
   "outputs": [
    {
     "name": "stdout",
     "output_type": "stream",
     "text": [
      "+------+---+----------+------+\n",
      "|  name|age|experience|salary|\n",
      "+------+---+----------+------+\n",
      "|Takezo|  8|         4|  1000|\n",
      "|Sasaki|  9|         7|  2000|\n",
      "+------+---+----------+------+\n",
      "\n"
     ]
    }
   ],
   "source": [
    "df_pyspark.filter(df_pyspark['salary'] <= 2000).show()"
   ]
  },
  {
   "cell_type": "code",
   "execution_count": 14,
   "id": "fea4d324-a9fb-4902-bb29-c6959ad2c607",
   "metadata": {},
   "outputs": [
    {
     "name": "stdout",
     "output_type": "stream",
     "text": [
      "+-------+---+----------+------+\n",
      "|   name|age|experience|salary|\n",
      "+-------+---+----------+------+\n",
      "| Takezo|  8|         4|  1000|\n",
      "| Sasaki|  9|         7|  2000|\n",
      "| Takuan| 42|        30|  3000|\n",
      "|   Otsu| 64|        36|  4000|\n",
      "|   Itto| 32|        48|  5000|\n",
      "|Seijuro| 88|        13|  7000|\n",
      "+-------+---+----------+------+\n",
      "\n"
     ]
    }
   ],
   "source": [
    "df_pyspark.filter((df_pyspark['salary'] <= 20000) | (df_pyspark['salary'] >= 15000)).show()"
   ]
  },
  {
   "cell_type": "code",
   "execution_count": 15,
   "id": "b7e02d31-d3cb-4545-aca3-fc31c95eb5de",
   "metadata": {},
   "outputs": [
    {
     "name": "stdout",
     "output_type": "stream",
     "text": [
      "+-------+---+----------+------+\n",
      "|   name|age|experience|salary|\n",
      "+-------+---+----------+------+\n",
      "| Takuan| 42|        30|  3000|\n",
      "|   Otsu| 64|        36|  4000|\n",
      "|   Itto| 32|        48|  5000|\n",
      "|Seijuro| 88|        13|  7000|\n",
      "+-------+---+----------+------+\n",
      "\n"
     ]
    }
   ],
   "source": [
    "df_pyspark.filter(~(df_pyspark['salary'] <= 2000)).show()"
   ]
  },
  {
   "cell_type": "code",
   "execution_count": null,
   "id": "c32c8d8a-6f53-40f1-9a77-b20b059dc363",
   "metadata": {},
   "outputs": [],
   "source": []
  },
  {
   "cell_type": "code",
   "execution_count": null,
   "id": "17fdf4a3-e3ef-45a8-99e1-85550093f09a",
   "metadata": {},
   "outputs": [],
   "source": []
  },
  {
   "cell_type": "code",
   "execution_count": null,
   "id": "30db338d-57e1-476d-9d72-a5013124ac7b",
   "metadata": {},
   "outputs": [],
   "source": []
  },
  {
   "cell_type": "code",
   "execution_count": null,
   "id": "96c00e0f-1c38-46ae-b673-3debdc4c66e3",
   "metadata": {},
   "outputs": [],
   "source": []
  },
  {
   "cell_type": "code",
   "execution_count": null,
   "id": "cca5c504-a2c8-42a8-a5c2-2f1252597612",
   "metadata": {},
   "outputs": [],
   "source": []
  },
  {
   "cell_type": "code",
   "execution_count": null,
   "id": "10ac13a3-d447-45b1-8918-5a2e6658e1a6",
   "metadata": {},
   "outputs": [],
   "source": []
  },
  {
   "cell_type": "code",
   "execution_count": null,
   "id": "eedd3395-9ebd-4f9b-a3ef-c8db13f17a17",
   "metadata": {},
   "outputs": [],
   "source": []
  },
  {
   "cell_type": "code",
   "execution_count": null,
   "id": "7118ecda-9447-4cab-a8b2-25352cd7ac2f",
   "metadata": {},
   "outputs": [],
   "source": []
  },
  {
   "cell_type": "code",
   "execution_count": null,
   "id": "979336e5-fbb4-4e5a-b44a-24ce852f51fa",
   "metadata": {},
   "outputs": [],
   "source": []
  },
  {
   "cell_type": "code",
   "execution_count": null,
   "id": "e7994def-36f9-441c-8edc-a0efc4539f16",
   "metadata": {},
   "outputs": [],
   "source": []
  },
  {
   "cell_type": "code",
   "execution_count": null,
   "id": "ddd7b3de-f5e2-4a3c-88f3-a82b319c725a",
   "metadata": {},
   "outputs": [],
   "source": []
  },
  {
   "cell_type": "code",
   "execution_count": null,
   "id": "91c4c7ec-fb14-43da-b245-0f7e1f19a9e1",
   "metadata": {},
   "outputs": [],
   "source": []
  }
 ],
 "metadata": {
  "kernelspec": {
   "display_name": "Python 3 (ipykernel)",
   "language": "python",
   "name": "python3"
  },
  "language_info": {
   "codemirror_mode": {
    "name": "ipython",
    "version": 3
   },
   "file_extension": ".py",
   "mimetype": "text/x-python",
   "name": "python",
   "nbconvert_exporter": "python",
   "pygments_lexer": "ipython3",
   "version": "3.9.11"
  }
 },
 "nbformat": 4,
 "nbformat_minor": 5
}
